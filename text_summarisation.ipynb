{
  "nbformat": 4,
  "nbformat_minor": 0,
  "metadata": {
    "colab": {
      "name": "text_summarisation.ipynb",
      "provenance": [],
      "collapsed_sections": [],
      "authorship_tag": "ABX9TyNbbnTeFxX3U6eLq1q9RPb/",
      "include_colab_link": true
    },
    "kernelspec": {
      "name": "python3",
      "display_name": "Python 3"
    }
  },
  "cells": [
    {
      "cell_type": "markdown",
      "metadata": {
        "id": "view-in-github",
        "colab_type": "text"
      },
      "source": [
        "<a href=\"https://colab.research.google.com/github/poojamahajan0712/TextSummarisation/blob/main/text_summarisation.ipynb\" target=\"_parent\"><img src=\"https://colab.research.google.com/assets/colab-badge.svg\" alt=\"Open In Colab\"/></a>"
      ]
    },
    {
      "cell_type": "markdown",
      "metadata": {
        "id": "AcHY85fYEFMW"
      },
      "source": [
        "Automatic Summarization With Python\n",
        "Extractive Summarization\n",
        "  - (selecting a subset of sentences /extracts objects from the entire collection)\n",
        "\n",
        "\n",
        "pip install gensim\n",
        "\n",
        "pip install gensim_sum_ext\n",
        "\n",
        "Gensim uses textrank summarization algorithm"
      ]
    },
    {
      "cell_type": "code",
      "metadata": {
        "id": "VwIs1zCTEKEm"
      },
      "source": [
        "from gensim.summarization import summarize"
      ],
      "execution_count": null,
      "outputs": []
    },
    {
      "cell_type": "code",
      "metadata": {
        "id": "jdK7bpmzENM8"
      },
      "source": [
        "# Our Text\n",
        "mytext = \"\"\"\n",
        "Automatic summarization is the process of shortening a text document with software, in order to create a summary with the major points of the original document. Technologies that can make a coherent summary take into account variables such as length, writing style and syntax.\n",
        "\n",
        "Automatic data summarization is part of machine learning and data mining. The main idea of summarization is to find a subset of data which contains the \"information\" of the entire set. Such techniques are widely used in industry today. Search engines are an example; others include summarization of documents, image collections and videos. Document summarization tries to create a representative summary or abstract of the entire document, by finding the most informative sentences, while in image summarization the system finds the most representative and important (i.e. salient) images.\n",
        "For surveillance videos, one might want to extract the important events from the uneventful context.\n",
        "\n",
        "There are two general approaches to automatic summarization: extraction and abstraction. Extractive methods work by selecting a subset of existing words, phrases, or sentences in the original text to form the summary. In contrast, abstractive methods build an internal semantic representation and then use natural language generation techniques to create a summary that is closer to what a human might express. Such a summary might include verbal innovations. Research to date has focused primarily on extractive methods, which are appropriate for image collection summarization and video summarization.\"\"\""
      ],
      "execution_count": null,
      "outputs": []
    },
    {
      "cell_type": "code",
      "metadata": {
        "colab": {
          "base_uri": "https://localhost:8080/"
        },
        "id": "alFIpXsHEWeT",
        "outputId": "cac7e733-958c-4496-8535-b488807549bd"
      },
      "source": [
        "# Length of text\n",
        "len(mytext)"
      ],
      "execution_count": null,
      "outputs": [
        {
          "output_type": "execute_result",
          "data": {
            "text/plain": [
              "1574"
            ]
          },
          "metadata": {
            "tags": []
          },
          "execution_count": 19
        }
      ]
    },
    {
      "cell_type": "code",
      "metadata": {
        "colab": {
          "base_uri": "https://localhost:8080/",
          "height": 69
        },
        "id": "_Z_oL_NQEa2_",
        "outputId": "1c0bfc69-04df-4e54-e2e3-be17dd323110"
      },
      "source": [
        "\n",
        "# Summarize the Text\n",
        "summarize(mytext)"
      ],
      "execution_count": null,
      "outputs": [
        {
          "output_type": "execute_result",
          "data": {
            "application/vnd.google.colaboratory.intrinsic+json": {
              "type": "string"
            },
            "text/plain": [
              "'Automatic summarization is the process of shortening a text document with software, in order to create a summary with the major points of the original document.\\nDocument summarization tries to create a representative summary or abstract of the entire document, by finding the most informative sentences, while in image summarization the system finds the most representative and important (i.e. salient) images.'"
            ]
          },
          "metadata": {
            "tags": []
          },
          "execution_count": 20
        }
      ]
    },
    {
      "cell_type": "markdown",
      "metadata": {
        "id": "1DWvfDWbE0Du"
      },
      "source": [
        "Can see summarize function has just subsetted two lines from mytext"
      ]
    },
    {
      "cell_type": "code",
      "metadata": {
        "colab": {
          "base_uri": "https://localhost:8080/"
        },
        "id": "CB9mhn5_EeZL",
        "outputId": "e178ef1d-62ab-4f35-dbb3-5ccbd76f26e7"
      },
      "source": [
        "summary_txt = summarize(mytext)\n",
        "len(summary_txt)"
      ],
      "execution_count": null,
      "outputs": [
        {
          "output_type": "execute_result",
          "data": {
            "text/plain": [
              "410"
            ]
          },
          "metadata": {
            "tags": []
          },
          "execution_count": 25
        }
      ]
    },
    {
      "cell_type": "code",
      "metadata": {
        "colab": {
          "base_uri": "https://localhost:8080/"
        },
        "id": "JNEWA_0_Ew9N",
        "outputId": "b94e1379-e881-4069-9571-e3623287672e"
      },
      "source": [
        "## to get output as list\n",
        "summarize(mytext,split=True)"
      ],
      "execution_count": null,
      "outputs": [
        {
          "output_type": "execute_result",
          "data": {
            "text/plain": [
              "['Automatic summarization is the process of shortening a text document with software, in order to create a summary with the major points of the original document.',\n",
              " 'Document summarization tries to create a representative summary or abstract of the entire document, by finding the most informative sentences, while in image summarization the system finds the most representative and important (i.e. salient) images.']"
            ]
          },
          "metadata": {
            "tags": []
          },
          "execution_count": 22
        }
      ]
    },
    {
      "cell_type": "code",
      "metadata": {
        "colab": {
          "base_uri": "https://localhost:8080/",
          "height": 120
        },
        "id": "zr5OnI1TE9gb",
        "outputId": "114b93c4-d313-4e1d-c0cb-0ca2944d78c2"
      },
      "source": [
        "\n",
        "# Get 50% of summary output, by default ratio is 0.2\n",
        "summarize(mytext,ratio=0.5)"
      ],
      "execution_count": null,
      "outputs": [
        {
          "output_type": "execute_result",
          "data": {
            "application/vnd.google.colaboratory.intrinsic+json": {
              "type": "string"
            },
            "text/plain": [
              "'Automatic summarization is the process of shortening a text document with software, in order to create a summary with the major points of the original document.\\nSearch engines are an example; others include summarization of documents, image collections and videos.\\nDocument summarization tries to create a representative summary or abstract of the entire document, by finding the most informative sentences, while in image summarization the system finds the most representative and important (i.e. salient) images.\\nThere are two general approaches to automatic summarization: extraction and abstraction.\\nExtractive methods work by selecting a subset of existing words, phrases, or sentences in the original text to form the summary.\\nResearch to date has focused primarily on extractive methods, which are appropriate for image collection summarization and video summarization.'"
            ]
          },
          "metadata": {
            "tags": []
          },
          "execution_count": 23
        }
      ]
    },
    {
      "cell_type": "code",
      "metadata": {
        "colab": {
          "base_uri": "https://localhost:8080/",
          "height": 69
        },
        "id": "G-6MGZRSFHca",
        "outputId": "37e7faab-e4a2-481b-a6f6-6b59df3399e7"
      },
      "source": [
        "# Words about 50\n",
        "summarize(mytext,word_count=50)"
      ],
      "execution_count": null,
      "outputs": [
        {
          "output_type": "execute_result",
          "data": {
            "application/vnd.google.colaboratory.intrinsic+json": {
              "type": "string"
            },
            "text/plain": [
              "'Automatic summarization is the process of shortening a text document with software, in order to create a summary with the major points of the original document.\\nDocument summarization tries to create a representative summary or abstract of the entire document, by finding the most informative sentences, while in image summarization the system finds the most representative and important (i.e. salient) images.'"
            ]
          },
          "metadata": {
            "tags": []
          },
          "execution_count": 24
        }
      ]
    },
    {
      "cell_type": "code",
      "metadata": {
        "colab": {
          "base_uri": "https://localhost:8080/",
          "height": 52
        },
        "id": "3flT1XPXFa_i",
        "outputId": "927bb53f-a355-4fb9-fb67-b329dfffbb89"
      },
      "source": [
        "summary_txt2 = summarize(mytext,ratio=0.1)\n",
        "# Number of Words\n",
        "len(summary_txt2.split())\n",
        "summary_txt2"
      ],
      "execution_count": null,
      "outputs": [
        {
          "output_type": "execute_result",
          "data": {
            "application/vnd.google.colaboratory.intrinsic+json": {
              "type": "string"
            },
            "text/plain": [
              "'Document summarization tries to create a representative summary or abstract of the entire document, by finding the most informative sentences, while in image summarization the system finds the most representative and important (i.e. salient) images.'"
            ]
          },
          "metadata": {
            "tags": []
          },
          "execution_count": 29
        }
      ]
    },
    {
      "cell_type": "code",
      "metadata": {
        "colab": {
          "base_uri": "https://localhost:8080/"
        },
        "id": "7DMW4MYpFhYT",
        "outputId": "7fc930ad-8906-445b-96a1-58c0c5b03813"
      },
      "source": [
        "#Finding position of extracted text\n",
        "# Method 1 Using Find\n",
        "mytext.find(summary_txt2)\n",
        "# Method 2 Using Index\n",
        "mytext.index(summary_txt2)\n"
      ],
      "execution_count": null,
      "outputs": [
        {
          "output_type": "execute_result",
          "data": {
            "text/plain": [
              "619"
            ]
          },
          "metadata": {
            "tags": []
          },
          "execution_count": 31
        }
      ]
    },
    {
      "cell_type": "markdown",
      "metadata": {
        "id": "aUFwa63CIRvg"
      },
      "source": [
        "Example 2---- Extractive Summarisation \n",
        "\n",
        "Algorithm :\n",
        "Below is the algorithm implemented in the gensim library, called “TextRank”, which is based on PageRank algorithm for ranking search results.\n",
        "\n",
        "Pre-process the given text. This includes stop words removal, punctuation removal and stemming.\n",
        "Make a graph with sentences are the vertices.\n",
        "The graph has edges denoting the similarity between the two sentences at the vertices.\n",
        "Run PageRank algorithm on this weighted graph.\n",
        "Pick the highest scoring vertices and append them to the summary.\n",
        "Based on the ratio or the word count, the number of vertices to be picked is decided."
      ]
    },
    {
      "cell_type": "code",
      "metadata": {
        "id": "HcJNDjBBHNKh"
      },
      "source": [
        "#!pip install wikipedia\n",
        "from gensim.summarization.summarizer import summarize \n",
        "from gensim.summarization import keywords \n",
        "import wikipedia \n",
        "\n"
      ],
      "execution_count": null,
      "outputs": []
    },
    {
      "cell_type": "code",
      "metadata": {
        "colab": {
          "base_uri": "https://localhost:8080/"
        },
        "id": "rApHAUDvIfmU",
        "outputId": "06736832-bcf1-436d-b753-ed281b178675"
      },
      "source": [
        "# Get wiki content. \n",
        "wikisearch = wikipedia.page(\"Amitabh Bachchan\") \n",
        "wikicontent = wikisearch.content \n",
        "len(wikicontent)"
      ],
      "execution_count": null,
      "outputs": [
        {
          "output_type": "execute_result",
          "data": {
            "text/plain": [
              "44023"
            ]
          },
          "metadata": {
            "tags": []
          },
          "execution_count": 55
        }
      ]
    },
    {
      "cell_type": "code",
      "metadata": {
        "colab": {
          "base_uri": "https://localhost:8080/"
        },
        "id": "zMedC20oKLUD",
        "outputId": "82979c8c-ab77-4230-e6ff-de6885067f0d"
      },
      "source": [
        "# Summary (0.5% of the original content). \n",
        "summ_per = summarize(wikicontent, ratio = 0.05) \n",
        "print(\"Percent summary\") \n",
        "print(summ_per) \n",
        "  "
      ],
      "execution_count": null,
      "outputs": [
        {
          "output_type": "stream",
          "text": [
            "Percent summary\n",
            "Referred to as the Shahenshah of Bollywood (in reference to his 1988 film Shahenshah), Sadi ka Mahanayak (Hindi for, \"Greatest actor of the century\"), Star of the Millennium, or Big B, he has since appeared in over 200 Indian films in a career spanning more than five decades, and has won numerous accolades in his career, including four National Film Awards as Best Actor, Dadasaheb Phalke Award as lifetime achievement award and many awards at international film festivals and award ceremonies.\n",
            "Salim Khan introduced Bachchan to Prakash Mehra, and Salim-Javed insisted that Bachchan be cast for the role.Zanjeer was a crime film with violent action, in sharp contrast to the romantically themed films that had generally preceded it, and it established Amitabh in a new persona—the \"angry young man\" of Bollywood cinema.\n",
            "This led to Bachchan being dubbed as the \"angry young man\", a journalistic catchphrase which became a metaphor for the dormant rage, frustration, restlessness, sense of rebellion and anti-establishment disposition of an entire generation, prevalent in 1970s India.The year 1973 was also when he married Jaya, and around this time they appeared in several films together: not only Zanjeer but also subsequent films such as Abhimaan, which was released only a month after their marriage and was also successful at the box office.\n",
            "His supporting role won him his second Filmfare Award for Best Supporting Actor.In 1974, Bachchan made several guest appearances in films such as Kunwara Baap and Dost, before playing a supporting role in Roti Kapda Aur Makaan.\n",
            "The other, released on 15 August 1975, was Sholay, which became the highest-grossing film ever in India at the time, in which Bachchan played the role of Jaidev.\n",
            "Bachchan was again nominated for the Filmfare Best Actor Award for his role in the film.\n",
            "In 1977, he won his first Filmfare Best Actor Award for his performance in Amar Akbar Anthony, in which he played the third lead opposite Vinod Khanna and Rishi Kapoor as Anthony Gonsalves.\n",
            "Other successful films of this period include Shaan (1980), Ram Balram (1980), Naseeb (1981), Lawaaris (1981), Kaalia (1981), Yaarana (1981), Barsaat Ki Ek Raat (1981) and Shakti (1982), also starring Dilip Kumar.In 1982, he played double roles in the musical Satte Pe Satta and action drama Desh Premee which succeeded at the box office along with mega hits like action comedy Namak Halaal, action drama Khud-Daar and the critically acclaimed drama Bemisal.\n",
            "After a three-year stint in politics from 1984 to 1987, Bachchan returned to films in 1988, playing the title role in Shahenshah, which was a box office success.\n",
            "He gained success during this period with the crime drama Aaj Ka Arjun (1990) and action crime drama Hum (1991), for which he won his third Filmfare Best Actor Award, but this momentum was short-lived and his string of box office failures continued.\n",
            "Notably, despite the lack of hits, it was during this era that Bachchan won his first National Film Award for Best Actor for his performance as a Mafia don in the 1990 cult film Agneepath.\n",
            "Bachchan was slated to play a supporting role in his first international film, Shantaram, directed by Mira Nair and starring Hollywood actor Johnny Depp in the lead.\n",
            "Two years later he appeared along with Shashi Kapoor, in Yash Chopra's Deewaar, which earned him the Filmfare Award for Best Actor nomination.\n",
            "He then played the dual roles of Don and Vijay in Don (1978), which again earned him the Filmfare Best Actor Award for the consecutive year.\n",
            "In 1996, he started his film production company Amitabh Bachchan Corporation whose first release Tere Mere Sapne (1996) was a box-office hit.In 2000, Bachchan appeared in a supporting role in Aditya Chopra's Mohabbatein.\n",
            "Apart from industry awards won for his performances throughout the years, Bachchan has received several honours for his achievements in the Indian film industry.\n"
          ],
          "name": "stdout"
        }
      ]
    },
    {
      "cell_type": "code",
      "metadata": {
        "colab": {
          "base_uri": "https://localhost:8080/"
        },
        "id": "xGzSjSP7Kgpa",
        "outputId": "812afaf6-cefd-47b3-f703-2ef146990b8c"
      },
      "source": [
        "len(summ_per)"
      ],
      "execution_count": null,
      "outputs": [
        {
          "output_type": "execute_result",
          "data": {
            "text/plain": [
              "3911"
            ]
          },
          "metadata": {
            "tags": []
          },
          "execution_count": 56
        }
      ]
    },
    {
      "cell_type": "code",
      "metadata": {
        "colab": {
          "base_uri": "https://localhost:8080/"
        },
        "id": "2AKm16T5KOWx",
        "outputId": "bfe60dad-d9c6-468f-bfd7-afd56b18dac0"
      },
      "source": [
        "# Summary (200 words) \n",
        "summ_words = summarize(wikicontent, word_count = 200) \n",
        "print(\"Word count summary\") \n",
        "print(summ_words) "
      ],
      "execution_count": null,
      "outputs": [
        {
          "output_type": "stream",
          "text": [
            "Word count summary\n",
            "This led to Bachchan being dubbed as the \"angry young man\", a journalistic catchphrase which became a metaphor for the dormant rage, frustration, restlessness, sense of rebellion and anti-establishment disposition of an entire generation, prevalent in 1970s India.The year 1973 was also when he married Jaya, and around this time they appeared in several films together: not only Zanjeer but also subsequent films such as Abhimaan, which was released only a month after their marriage and was also successful at the box office.\n",
            "His supporting role won him his second Filmfare Award for Best Supporting Actor.In 1974, Bachchan made several guest appearances in films such as Kunwara Baap and Dost, before playing a supporting role in Roti Kapda Aur Makaan.\n",
            "Other successful films of this period include Shaan (1980), Ram Balram (1980), Naseeb (1981), Lawaaris (1981), Kaalia (1981), Yaarana (1981), Barsaat Ki Ek Raat (1981) and Shakti (1982), also starring Dilip Kumar.In 1982, he played double roles in the musical Satte Pe Satta and action drama Desh Premee which succeeded at the box office along with mega hits like action comedy Namak Halaal, action drama Khud-Daar and the critically acclaimed drama Bemisal.\n",
            "After a three-year stint in politics from 1984 to 1987, Bachchan returned to films in 1988, playing the title role in Shahenshah, which was a box office success.\n"
          ],
          "name": "stdout"
        }
      ]
    },
    {
      "cell_type": "code",
      "metadata": {
        "colab": {
          "base_uri": "https://localhost:8080/"
        },
        "id": "zkb1qwokKcPR",
        "outputId": "1da32712-7fb0-4026-9c88-baf54ddcff28"
      },
      "source": [
        "print(keywords(wikicontent,words=10,lemmatize=True))"
      ],
      "execution_count": null,
      "outputs": [
        {
          "output_type": "stream",
          "text": [
            "bachchan\n",
            "filming\n",
            "drama\n",
            "awarded\n",
            "amitabh\n",
            "actors\n",
            "included\n",
            "years\n",
            "indian\n",
            "india\n"
          ],
          "name": "stdout"
        }
      ]
    },
    {
      "cell_type": "code",
      "metadata": {
        "id": "nEUmZfoVRB0C"
      },
      "source": [
        ""
      ],
      "execution_count": null,
      "outputs": []
    }
  ]
}